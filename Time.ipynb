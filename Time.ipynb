{
 "cells": [
  {
   "cell_type": "code",
   "execution_count": 1,
   "metadata": {},
   "outputs": [],
   "source": [
    "import numpy as np\n",
    "from numpy import sqrt\n",
    "import matplotlib.pyplot as plt\n",
    "from time import process_time\n",
    "import pandas as pd"
   ]
  },
  {
   "cell_type": "code",
   "execution_count": 2,
   "metadata": {},
   "outputs": [],
   "source": [
    "a=np.zeros((256,256,3))\n",
    "b=np.array(pd.read_csv(\"C:\\\\Users\\\\Nam Le\\\\file1.txt\", sep=\" \", header=None))\n",
    "c=range(2,9,2)"
   ]
  },
  {
   "cell_type": "code",
   "execution_count": 3,
   "metadata": {},
   "outputs": [
    {
     "data": {
      "text/plain": [
       "array([[  0., 128., 255.],\n",
       "       [  0.,   0., 155.],\n",
       "       [255.,   0.,   0.],\n",
       "       [255., 128.,   0.]])"
      ]
     },
     "execution_count": 3,
     "metadata": {},
     "output_type": "execute_result"
    }
   ],
   "source": [
    "b[0:2]\n",
    "s=np.zeros((4,3))\n",
    "for j in range(4):\n",
    "        a[b[j][1],b[j][0]]=b[j][2:5]\n",
    "        s[j]=b[j][2:5]\n",
    "s"
   ]
  },
  {
   "cell_type": "code",
   "execution_count": 4,
   "metadata": {},
   "outputs": [],
   "source": [
    "compare=[]\n",
    "for i in c:\n",
    "    start_time=process_time()\n",
    "    s=np.zeros((i,3))\n",
    "    h=np.zeros((i,2))\n",
    "    for j in range(i):\n",
    "        a[b[j][1],b[j][0]]=b[j][2:5]\n",
    "        s[j]=b[j][2:5]\n",
    "        h[j]=b[j][0:2]\n",
    "    def not_points(m,n):\n",
    "        return not ([m,n] in h)\n",
    "    s=np.transpose(s)\n",
    "    def dis(m,n):\n",
    "        return sqrt((m[0]-n[0])**2+(m[1]-n[1])**2)\n",
    "    r=np.zeros((256,256,i))\n",
    "    r=r.astype(\"uint8\")\n",
    "    for m in range(256):\n",
    "        for n in range(256):\n",
    "            if not_points(m,n):\n",
    "                for p in range(i):\n",
    "                    r[m,n,p]=dis([m,n],h[p])\n",
    "    for m in range(256):\n",
    "        for n in range(256):\n",
    "            if not_points(m,n):\n",
    "                x=(1/(1+r[m,n]**2))\n",
    "                t=sum(x)\n",
    "                a[m,n]=(s@x)/t\n",
    "    a=a.astype(\"uint8\")\n",
    "    stop_time=process_time()\n",
    "    delta_time=(stop_time-start_time)\n",
    "    compare.append([i, delta_time])"
   ]
  },
  {
   "cell_type": "code",
   "execution_count": 5,
   "metadata": {},
   "outputs": [
    {
     "data": {
      "text/html": [
       "<div>\n",
       "<style scoped>\n",
       "    .dataframe tbody tr th:only-of-type {\n",
       "        vertical-align: middle;\n",
       "    }\n",
       "\n",
       "    .dataframe tbody tr th {\n",
       "        vertical-align: top;\n",
       "    }\n",
       "\n",
       "    .dataframe thead th {\n",
       "        text-align: right;\n",
       "    }\n",
       "</style>\n",
       "<table border=\"1\" class=\"dataframe\">\n",
       "  <thead>\n",
       "    <tr style=\"text-align: right;\">\n",
       "      <th></th>\n",
       "      <th>Number of initial points</th>\n",
       "      <th>Time to get the result</th>\n",
       "    </tr>\n",
       "  </thead>\n",
       "  <tbody>\n",
       "    <tr>\n",
       "      <th>0</th>\n",
       "      <td>2</td>\n",
       "      <td>5.593750</td>\n",
       "    </tr>\n",
       "    <tr>\n",
       "      <th>1</th>\n",
       "      <td>4</td>\n",
       "      <td>6.890625</td>\n",
       "    </tr>\n",
       "    <tr>\n",
       "      <th>2</th>\n",
       "      <td>6</td>\n",
       "      <td>7.843750</td>\n",
       "    </tr>\n",
       "    <tr>\n",
       "      <th>3</th>\n",
       "      <td>8</td>\n",
       "      <td>9.015625</td>\n",
       "    </tr>\n",
       "  </tbody>\n",
       "</table>\n",
       "</div>"
      ],
      "text/plain": [
       "   Number of initial points  Time to get the result\n",
       "0                         2                5.593750\n",
       "1                         4                6.890625\n",
       "2                         6                7.843750\n",
       "3                         8                9.015625"
      ]
     },
     "execution_count": 5,
     "metadata": {},
     "output_type": "execute_result"
    }
   ],
   "source": [
    "df=pd.DataFrame(compare, index=None, columns={\"Number of initial points\",\"Time to get the result\"})\n",
    "df"
   ]
  },
  {
   "cell_type": "code",
   "execution_count": null,
   "metadata": {},
   "outputs": [],
   "source": []
  }
 ],
 "metadata": {
  "kernelspec": {
   "display_name": "Python 3",
   "language": "python",
   "name": "python3"
  },
  "language_info": {
   "codemirror_mode": {
    "name": "ipython",
    "version": 3
   },
   "file_extension": ".py",
   "mimetype": "text/x-python",
   "name": "python",
   "nbconvert_exporter": "python",
   "pygments_lexer": "ipython3",
   "version": "3.7.6"
  }
 },
 "nbformat": 4,
 "nbformat_minor": 4
}
