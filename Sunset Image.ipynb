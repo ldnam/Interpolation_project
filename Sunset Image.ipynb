{
 "cells": [
  {
   "cell_type": "code",
   "execution_count": 1,
   "metadata": {},
   "outputs": [],
   "source": [
    "import numpy as np\n",
    "import matplotlib.pyplot as plt\n",
    "import pandas as pd\n",
    "from PIL import Image\n",
    "from numpy import sqrt,log,exp"
   ]
  },
  {
   "cell_type": "code",
   "execution_count": 2,
   "metadata": {},
   "outputs": [
    {
     "data": {
      "text/plain": [
       "(5760, 3840, 3)"
      ]
     },
     "execution_count": 2,
     "metadata": {},
     "output_type": "execute_result"
    }
   ],
   "source": [
    "im= Image.open(\"C:\\\\Users\\\\Nam Le\\\\sunset.JPG\")\n",
    "a=np.array(im)\n",
    "a.shape"
   ]
  },
  {
   "cell_type": "code",
   "execution_count": 3,
   "metadata": {},
   "outputs": [],
   "source": [
    "def not_nine_points(i,j):\n",
    "    return not ((i in [1000,2000,3000]) and (j in [1500,3000,4500]))"
   ]
  },
  {
   "cell_type": "code",
   "execution_count": 4,
   "metadata": {},
   "outputs": [],
   "source": [
    "for i in range(3840):\n",
    "    for j in range(5760):\n",
    "        if not_nine_points(i,j):\n",
    "            a[j,i]=0"
   ]
  },
  {
   "cell_type": "code",
   "execution_count": 5,
   "metadata": {},
   "outputs": [],
   "source": [
    "def dis(i,j):\n",
    "    return sqrt((i[0]-j[0])**2+(i[1]-j[1])**2)\n",
    "r=np.zeros((3840,5760,9))\n",
    "r=r.astype(\"uint8\")\n",
    "t=([1000,1500],[1000,3000],[1000,4500],[2000,1500],[2000,3000],[2000,4500],[3000,1500],[3000,3000],[3000,4500])\n",
    "s=np.array([a[1500,1000],a[3000,1000],a[4500,1000],a[1500,2000],a[3000,2000],a[4500,2000],a[1500,3000],a[3000,3000],a[4500,3000]])\n",
    "s=np.transpose(s)"
   ]
  },
  {
   "cell_type": "code",
   "execution_count": null,
   "metadata": {},
   "outputs": [],
   "source": [
    "for i in range(3840):\n",
    "    for j in range(5760):\n",
    "        if not_nine_points(i,j):\n",
    "            r[i,j]=[dis([i,j],t[0]),dis([i,j],t[1]),dis([i,j],t[2]),dis([i,j],t[3]),dis([i,j],t[4]),dis([i,j],t[5]),dis([i,j],t[6]),dis([i,j],t[7]),dis([i,j],t[8])]\n",
    "            mnpq=1/(1+r[i,j]**2)\n",
    "            v=sum(mnpq)\n",
    "            a[j,i]=(s@mnpq)/v"
   ]
  },
  {
   "cell_type": "code",
   "execution_count": null,
   "metadata": {},
   "outputs": [],
   "source": [
    "plt.imshow(a)\n",
    "plt.axis(\"off\")\n",
    "plt.show()"
   ]
  },
  {
   "cell_type": "code",
   "execution_count": null,
   "metadata": {},
   "outputs": [],
   "source": []
  }
 ],
 "metadata": {
  "kernelspec": {
   "display_name": "Python 3",
   "language": "python",
   "name": "python3"
  },
  "language_info": {
   "codemirror_mode": {
    "name": "ipython",
    "version": 3
   },
   "file_extension": ".py",
   "mimetype": "text/x-python",
   "name": "python",
   "nbconvert_exporter": "python",
   "pygments_lexer": "ipython3",
   "version": "3.7.6"
  }
 },
 "nbformat": 4,
 "nbformat_minor": 4
}
